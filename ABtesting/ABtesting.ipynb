{
  "cells": [
    {
      "cell_type": "code",
      "execution_count": 2,
      "id": "d3bfe55a",
      "metadata": {
        "id": "d3bfe55a"
      },
      "outputs": [],
      "source": [
        "import pandas as pd\n",
        "import numpy as np\n",
        "import os\n",
        "import scipy\n",
        "import statsmodels\n",
        "from tqdm import tqdm"
      ]
    },
    {
      "cell_type": "code",
      "execution_count": 3,
      "id": "7fdc0e32",
      "metadata": {
        "id": "7fdc0e32"
      },
      "outputs": [],
      "source": [
        "mypath = os.getcwd()\n",
        "\n",
        "task_1_path = os.path.join(mypath, 'Задание 1')\n",
        "task_2_path = os.path.join(mypath, 'Задание 2')\n",
        "\n",
        "task_1_files = [os.path.join(task_1_path, i) for i in os.listdir(task_1_path)]\n",
        "task_2_files = [os.path.join(task_2_path, i) for i in os.listdir(task_2_path)]"
      ]
    },
    {
      "cell_type": "markdown",
      "id": "0f891eee",
      "metadata": {
        "id": "0f891eee"
      },
      "source": [
        "## Задание 1"
      ]
    },
    {
      "cell_type": "markdown",
      "id": "846ee238",
      "metadata": {
        "id": "846ee238"
      },
      "source": [
        "**Контекст**\n",
        "\n",
        "Регулятор постановил, что текущий скрипт диалога с клиентом слишком жёсткий и нужно придумать новый. Нужно проверить, ухудшает ли новый скрипт показатели.\n",
        "\n",
        "**Тест**\n",
        "\n",
        "Было проведено тестирование в котором поток клиентов был разбит на две части, где одна часть получила один вариант скрипта, а вторая часть другой вариант, теперь необходимо найти лучший вариант.\n",
        "\n",
        "**Статистические вводные**\n",
        "\n",
        "Уровень значимости 5%. Мы хотели бы различать 8%-ное изменение целевой метрики с вероятностью 80%."
      ]
    },
    {
      "cell_type": "code",
      "execution_count": null,
      "id": "375e73c2",
      "metadata": {
        "id": "375e73c2",
        "outputId": "343db00f-2643-4894-f265-a14a38272bfe"
      },
      "outputs": [
        {
          "data": {
            "text/html": [
              "<div>\n",
              "<style scoped>\n",
              "    .dataframe tbody tr th:only-of-type {\n",
              "        vertical-align: middle;\n",
              "    }\n",
              "\n",
              "    .dataframe tbody tr th {\n",
              "        vertical-align: top;\n",
              "    }\n",
              "\n",
              "    .dataframe thead th {\n",
              "        text-align: right;\n",
              "    }\n",
              "</style>\n",
              "<table border=\"1\" class=\"dataframe\">\n",
              "  <thead>\n",
              "    <tr style=\"text-align: right;\">\n",
              "      <th></th>\n",
              "      <th>ID</th>\n",
              "      <th>Флаг дозвона</th>\n",
              "      <th>Флаг продажи</th>\n",
              "      <th>Расходы</th>\n",
              "      <th>PV</th>\n",
              "      <th>NPV</th>\n",
              "    </tr>\n",
              "  </thead>\n",
              "  <tbody>\n",
              "    <tr>\n",
              "      <th>0</th>\n",
              "      <td>0</td>\n",
              "      <td>1</td>\n",
              "      <td>0</td>\n",
              "      <td>90</td>\n",
              "      <td>0</td>\n",
              "      <td>-90</td>\n",
              "    </tr>\n",
              "    <tr>\n",
              "      <th>1</th>\n",
              "      <td>1</td>\n",
              "      <td>0</td>\n",
              "      <td>0</td>\n",
              "      <td>5</td>\n",
              "      <td>0</td>\n",
              "      <td>-5</td>\n",
              "    </tr>\n",
              "    <tr>\n",
              "      <th>2</th>\n",
              "      <td>2</td>\n",
              "      <td>0</td>\n",
              "      <td>0</td>\n",
              "      <td>68</td>\n",
              "      <td>0</td>\n",
              "      <td>-68</td>\n",
              "    </tr>\n",
              "    <tr>\n",
              "      <th>3</th>\n",
              "      <td>3</td>\n",
              "      <td>1</td>\n",
              "      <td>0</td>\n",
              "      <td>22</td>\n",
              "      <td>0</td>\n",
              "      <td>-22</td>\n",
              "    </tr>\n",
              "    <tr>\n",
              "      <th>4</th>\n",
              "      <td>4</td>\n",
              "      <td>1</td>\n",
              "      <td>0</td>\n",
              "      <td>22</td>\n",
              "      <td>0</td>\n",
              "      <td>-22</td>\n",
              "    </tr>\n",
              "  </tbody>\n",
              "</table>\n",
              "</div>"
            ],
            "text/plain": [
              "   ID  Флаг дозвона  Флаг продажи  Расходы  PV  NPV\n",
              "0   0             1             0       90   0  -90\n",
              "1   1             0             0        5   0   -5\n",
              "2   2             0             0       68   0  -68\n",
              "3   3             1             0       22   0  -22\n",
              "4   4             1             0       22   0  -22"
            ]
          },
          "execution_count": 3,
          "metadata": {},
          "output_type": "execute_result"
        }
      ],
      "source": [
        "pd.read_csv(task_1_files[1]).head()"
      ]
    },
    {
      "cell_type": "markdown",
      "id": "864897b2",
      "metadata": {
        "id": "864897b2"
      },
      "source": [
        "Целевая метрика - конверсия в покупку.\n",
        "\n",
        "$H_0: p_1 = p_2.$ Конверсии в двух группах не имеют значимого различия \\\n",
        "$H_1: p_1 \\neq p_2.$ Есть значимое различие в конверсиях \\\n",
        "Для подсчета минимальной необходимой выборки нужно воспользоваться формулой:\\\n",
        "$N = \\frac{p(1 - p)(z_{1-\\alpha} - z_{\\beta})^2}{k \\Delta^2}$ \\\n",
        "$N = \\frac{p(1 - p)(z_{1-\\alpha} - z_{\\beta})^2}{(1 - k) \\Delta^2}$\n",
        "Где k - доля теста (контроля), $\\Delta$ - MDE, $z_{\\alpha}$ - квантиль стандартного нормального распределения, $\\sigma^2$ - верхняя оценка дисперсий, P - Базовая конверсия"
      ]
    },
    {
      "cell_type": "code",
      "execution_count": null,
      "id": "ee619cef",
      "metadata": {
        "scrolled": true,
        "id": "ee619cef",
        "outputId": "cd01f265-d4ce-466e-a437-f6d8a81ba23b"
      },
      "outputs": [
        {
          "name": "stdout",
          "output_type": "stream",
          "text": [
            "Значение среднего 0.3021715330995967\n",
            "Значение квантиля 0.975 1.959963984540054\n",
            "Значение квантиля 0.2 -0.8416212335729143\n",
            "Размер выборки  5664.385861942255\n"
          ]
        }
      ],
      "source": [
        "p = pd.read_csv(task_1_files[1])['Флаг продажи'].mean()\n",
        "z_a = scipy.stats.norm.ppf(1 - 0.05/2)\n",
        "z_b = scipy.stats.norm.ppf(1 - 0.8)\n",
        "print(f'Значение среднего {p}\\nЗначение квантиля 0.975 {z_a}\\nЗначение квантиля 0.2 {z_b}')\n",
        "print('Размер выборки ', p*(1 - p) * (z_a - z_b)**2 / (0.08*p)**2 / (1/2))"
      ]
    },
    {
      "cell_type": "markdown",
      "id": "7cef621d",
      "metadata": {
        "id": "7cef621d"
      },
      "source": [
        "Теперь можно провести z и t тесты. Формулы статистик критериев: \\\n",
        "$z = \\frac{\\overline{x} - \\overline{y}}{\\sqrt{\\frac{\\sigma^2_x}{m} + \\frac{\\sigma^2_y}{n}}}$ \\\n",
        "$t = \\frac{\\overline{x} - \\overline{y}}{\\sqrt{\\frac{s^2_x}{m} + \\frac{s^2_y}{n}}}$"
      ]
    },
    {
      "cell_type": "code",
      "execution_count": null,
      "id": "deb9a73f",
      "metadata": {
        "id": "deb9a73f",
        "outputId": "2cb1b9f6-096f-4268-b89c-2acf6a3463b4"
      },
      "outputs": [
        {
          "data": {
            "text/plain": [
              "(0.2980225988700565, 0.2837217514124294)"
            ]
          },
          "execution_count": 25,
          "metadata": {},
          "output_type": "execute_result"
        }
      ],
      "source": [
        "cntr = pd.read_csv(task_1_files[2])['Флаг продажи']\n",
        "test = pd.read_csv(task_1_files[3])['Флаг продажи']\n",
        "cntr.mean(), test.mean()"
      ]
    },
    {
      "cell_type": "code",
      "execution_count": null,
      "id": "99d043aa",
      "metadata": {
        "id": "99d043aa",
        "outputId": "d4534e0e-26dc-4f81-f1a8-dd6fe1facdd7"
      },
      "outputs": [
        {
          "name": "stdout",
          "output_type": "stream",
          "text": [
            "Количество данных в контроле 5664, продаж среди них 1688 \n",
            "Количество данных в тесте 5664, продаж среди них 1607\n",
            "Z-тест пропорций: значение p_value 0.09379789503595067 больше 0.05, значит альтернативная гипотеза отвергается\n",
            "T-тест: значение p_value 0.0938137897543713 больше 0.05, значит альтернативная гипотеза отвергается\n",
            "Вычисленный критерий вручную  1.6757550511179125 Значение z-критерия из пакета  1.6756952789890691\n"
          ]
        }
      ],
      "source": [
        "from statsmodels.stats.proportion import proportions_ztest\n",
        "\n",
        "z_criterion, p_value = statsmodels.stats.proportion.proportions_ztest([sum(cntr), sum(test)],\n",
        "                                        [len(cntr), len(test)],  alternative='two-sided')\n",
        "print(f'Количество данных в контроле {len(cntr)}, продаж среди них {sum(cntr)}',\n",
        "f'\\nКоличество данных в тесте {len(test)}, продаж среди них {sum(test)}')\n",
        "print(f'Z-тест пропорций: значение p_value {p_value} больше 0.05, значит альтернативная гипотеза отвергается')\n",
        "t_criterion, p_value = scipy.stats.ttest_ind(cntr, test, equal_var = False)\n",
        "print(f'T-тест: значение p_value {p_value} больше 0.05, значит альтернативная гипотеза отвергается')\n",
        "print( 'Вычисленный критерий вручную ',\n",
        "      (cntr.mean() - test.mean()) / np.sqrt(cntr.var() / cntr.size + test.var() / test.size),\n",
        "      'Значение z-критерия из пакета ', z_criterion)"
      ]
    },
    {
      "cell_type": "markdown",
      "id": "30e91b0f",
      "metadata": {
        "id": "30e91b0f"
      },
      "source": [
        "Значимых различий в выборках нет, новый скрипт не ухудшит продажи"
      ]
    },
    {
      "cell_type": "markdown",
      "id": "0875579a",
      "metadata": {
        "id": "0875579a"
      },
      "source": [
        "## Задание 2"
      ]
    },
    {
      "cell_type": "markdown",
      "id": "91cc3d3b",
      "metadata": {
        "id": "91cc3d3b"
      },
      "source": [
        "**Контекст**\n",
        "\n",
        "Нынешняя форма авторизации клиента слишком сложная для пользователей, из-за чего часть потенциальных пользователей не подает заявки. Была разработана новая форма, которая должна улучшить утилизацию (пользование) счетов\n",
        "\n",
        "**Тест**\n",
        "\n",
        "Поток пользователей был разделен на две части: контроль, где использовался старый метод авторизации и тест, где был использован новый метод авторизации. Нужно понять влияет ли изменение в форме на утилизацию счетов.\n",
        "\n",
        "**Статистические вводные**\n",
        "\n",
        "Проверка однородности выбранного параметра осуществяется с уровнем значимости 2%.\n",
        "Уровень значимости 5%. Мы хотели бы различать 3%-ное изменение целевой метрики с вероятностью 95%."
      ]
    },
    {
      "cell_type": "code",
      "execution_count": 4,
      "id": "e2714267",
      "metadata": {
        "id": "e2714267"
      },
      "outputs": [],
      "source": [
        "df = pd.read_csv(task_2_files[0])"
      ]
    },
    {
      "cell_type": "code",
      "execution_count": 5,
      "id": "91a4a637",
      "metadata": {
        "colab": {
          "base_uri": "https://localhost:8080/",
          "height": 261
        },
        "id": "91a4a637",
        "outputId": "bed4eafc-0bf9-4b0c-89ce-1d63f1974eea"
      },
      "outputs": [
        {
          "output_type": "execute_result",
          "data": {
            "text/plain": [
              "   ID  Возраст  Доход клиента  Вероятность банкротства  Флаг утилизации счёта  \\\n",
              "0   0       19   21620.835463                 0.138061                      0   \n",
              "1   1       27   24897.990863                 0.035508                      1   \n",
              "2   2       50   23989.526947                 0.098793                      0   \n",
              "3   3       18   38442.409756                 0.365661                      1   \n",
              "4   4       24   21291.521612                 0.036909                      1   \n",
              "\n",
              "   Расходы  PV КК  PV услуги    NPV  \n",
              "0      102      0          0   -102  \n",
              "1      409  11686       1754  13031  \n",
              "2       16      0          0    -16  \n",
              "3      788  13738       1578  14528  \n",
              "4     1048   6594       2213   7759  "
            ],
            "text/html": [
              "\n",
              "  <div id=\"df-5fa701f8-b875-45e4-b10e-5bc4139bed78\" class=\"colab-df-container\">\n",
              "    <div>\n",
              "<style scoped>\n",
              "    .dataframe tbody tr th:only-of-type {\n",
              "        vertical-align: middle;\n",
              "    }\n",
              "\n",
              "    .dataframe tbody tr th {\n",
              "        vertical-align: top;\n",
              "    }\n",
              "\n",
              "    .dataframe thead th {\n",
              "        text-align: right;\n",
              "    }\n",
              "</style>\n",
              "<table border=\"1\" class=\"dataframe\">\n",
              "  <thead>\n",
              "    <tr style=\"text-align: right;\">\n",
              "      <th></th>\n",
              "      <th>ID</th>\n",
              "      <th>Возраст</th>\n",
              "      <th>Доход клиента</th>\n",
              "      <th>Вероятность банкротства</th>\n",
              "      <th>Флаг утилизации счёта</th>\n",
              "      <th>Расходы</th>\n",
              "      <th>PV КК</th>\n",
              "      <th>PV услуги</th>\n",
              "      <th>NPV</th>\n",
              "    </tr>\n",
              "  </thead>\n",
              "  <tbody>\n",
              "    <tr>\n",
              "      <th>0</th>\n",
              "      <td>0</td>\n",
              "      <td>19</td>\n",
              "      <td>21620.835463</td>\n",
              "      <td>0.138061</td>\n",
              "      <td>0</td>\n",
              "      <td>102</td>\n",
              "      <td>0</td>\n",
              "      <td>0</td>\n",
              "      <td>-102</td>\n",
              "    </tr>\n",
              "    <tr>\n",
              "      <th>1</th>\n",
              "      <td>1</td>\n",
              "      <td>27</td>\n",
              "      <td>24897.990863</td>\n",
              "      <td>0.035508</td>\n",
              "      <td>1</td>\n",
              "      <td>409</td>\n",
              "      <td>11686</td>\n",
              "      <td>1754</td>\n",
              "      <td>13031</td>\n",
              "    </tr>\n",
              "    <tr>\n",
              "      <th>2</th>\n",
              "      <td>2</td>\n",
              "      <td>50</td>\n",
              "      <td>23989.526947</td>\n",
              "      <td>0.098793</td>\n",
              "      <td>0</td>\n",
              "      <td>16</td>\n",
              "      <td>0</td>\n",
              "      <td>0</td>\n",
              "      <td>-16</td>\n",
              "    </tr>\n",
              "    <tr>\n",
              "      <th>3</th>\n",
              "      <td>3</td>\n",
              "      <td>18</td>\n",
              "      <td>38442.409756</td>\n",
              "      <td>0.365661</td>\n",
              "      <td>1</td>\n",
              "      <td>788</td>\n",
              "      <td>13738</td>\n",
              "      <td>1578</td>\n",
              "      <td>14528</td>\n",
              "    </tr>\n",
              "    <tr>\n",
              "      <th>4</th>\n",
              "      <td>4</td>\n",
              "      <td>24</td>\n",
              "      <td>21291.521612</td>\n",
              "      <td>0.036909</td>\n",
              "      <td>1</td>\n",
              "      <td>1048</td>\n",
              "      <td>6594</td>\n",
              "      <td>2213</td>\n",
              "      <td>7759</td>\n",
              "    </tr>\n",
              "  </tbody>\n",
              "</table>\n",
              "</div>\n",
              "    <div class=\"colab-df-buttons\">\n",
              "\n",
              "  <div class=\"colab-df-container\">\n",
              "    <button class=\"colab-df-convert\" onclick=\"convertToInteractive('df-5fa701f8-b875-45e4-b10e-5bc4139bed78')\"\n",
              "            title=\"Convert this dataframe to an interactive table.\"\n",
              "            style=\"display:none;\">\n",
              "\n",
              "  <svg xmlns=\"http://www.w3.org/2000/svg\" height=\"24px\" viewBox=\"0 -960 960 960\">\n",
              "    <path d=\"M120-120v-720h720v720H120Zm60-500h600v-160H180v160Zm220 220h160v-160H400v160Zm0 220h160v-160H400v160ZM180-400h160v-160H180v160Zm440 0h160v-160H620v160ZM180-180h160v-160H180v160Zm440 0h160v-160H620v160Z\"/>\n",
              "  </svg>\n",
              "    </button>\n",
              "\n",
              "  <style>\n",
              "    .colab-df-container {\n",
              "      display:flex;\n",
              "      gap: 12px;\n",
              "    }\n",
              "\n",
              "    .colab-df-convert {\n",
              "      background-color: #E8F0FE;\n",
              "      border: none;\n",
              "      border-radius: 50%;\n",
              "      cursor: pointer;\n",
              "      display: none;\n",
              "      fill: #1967D2;\n",
              "      height: 32px;\n",
              "      padding: 0 0 0 0;\n",
              "      width: 32px;\n",
              "    }\n",
              "\n",
              "    .colab-df-convert:hover {\n",
              "      background-color: #E2EBFA;\n",
              "      box-shadow: 0px 1px 2px rgba(60, 64, 67, 0.3), 0px 1px 3px 1px rgba(60, 64, 67, 0.15);\n",
              "      fill: #174EA6;\n",
              "    }\n",
              "\n",
              "    .colab-df-buttons div {\n",
              "      margin-bottom: 4px;\n",
              "    }\n",
              "\n",
              "    [theme=dark] .colab-df-convert {\n",
              "      background-color: #3B4455;\n",
              "      fill: #D2E3FC;\n",
              "    }\n",
              "\n",
              "    [theme=dark] .colab-df-convert:hover {\n",
              "      background-color: #434B5C;\n",
              "      box-shadow: 0px 1px 3px 1px rgba(0, 0, 0, 0.15);\n",
              "      filter: drop-shadow(0px 1px 2px rgba(0, 0, 0, 0.3));\n",
              "      fill: #FFFFFF;\n",
              "    }\n",
              "  </style>\n",
              "\n",
              "    <script>\n",
              "      const buttonEl =\n",
              "        document.querySelector('#df-5fa701f8-b875-45e4-b10e-5bc4139bed78 button.colab-df-convert');\n",
              "      buttonEl.style.display =\n",
              "        google.colab.kernel.accessAllowed ? 'block' : 'none';\n",
              "\n",
              "      async function convertToInteractive(key) {\n",
              "        const element = document.querySelector('#df-5fa701f8-b875-45e4-b10e-5bc4139bed78');\n",
              "        const dataTable =\n",
              "          await google.colab.kernel.invokeFunction('convertToInteractive',\n",
              "                                                    [key], {});\n",
              "        if (!dataTable) return;\n",
              "\n",
              "        const docLinkHtml = 'Like what you see? Visit the ' +\n",
              "          '<a target=\"_blank\" href=https://colab.research.google.com/notebooks/data_table.ipynb>data table notebook</a>'\n",
              "          + ' to learn more about interactive tables.';\n",
              "        element.innerHTML = '';\n",
              "        dataTable['output_type'] = 'display_data';\n",
              "        await google.colab.output.renderOutput(dataTable, element);\n",
              "        const docLink = document.createElement('div');\n",
              "        docLink.innerHTML = docLinkHtml;\n",
              "        element.appendChild(docLink);\n",
              "      }\n",
              "    </script>\n",
              "  </div>\n",
              "\n",
              "\n",
              "<div id=\"df-25dbe360-0c41-4c1e-85a9-d2e1a07dcd3e\">\n",
              "  <button class=\"colab-df-quickchart\" onclick=\"quickchart('df-25dbe360-0c41-4c1e-85a9-d2e1a07dcd3e')\"\n",
              "            title=\"Suggest charts\"\n",
              "            style=\"display:none;\">\n",
              "\n",
              "<svg xmlns=\"http://www.w3.org/2000/svg\" height=\"24px\"viewBox=\"0 0 24 24\"\n",
              "     width=\"24px\">\n",
              "    <g>\n",
              "        <path d=\"M19 3H5c-1.1 0-2 .9-2 2v14c0 1.1.9 2 2 2h14c1.1 0 2-.9 2-2V5c0-1.1-.9-2-2-2zM9 17H7v-7h2v7zm4 0h-2V7h2v10zm4 0h-2v-4h2v4z\"/>\n",
              "    </g>\n",
              "</svg>\n",
              "  </button>\n",
              "\n",
              "<style>\n",
              "  .colab-df-quickchart {\n",
              "      --bg-color: #E8F0FE;\n",
              "      --fill-color: #1967D2;\n",
              "      --hover-bg-color: #E2EBFA;\n",
              "      --hover-fill-color: #174EA6;\n",
              "      --disabled-fill-color: #AAA;\n",
              "      --disabled-bg-color: #DDD;\n",
              "  }\n",
              "\n",
              "  [theme=dark] .colab-df-quickchart {\n",
              "      --bg-color: #3B4455;\n",
              "      --fill-color: #D2E3FC;\n",
              "      --hover-bg-color: #434B5C;\n",
              "      --hover-fill-color: #FFFFFF;\n",
              "      --disabled-bg-color: #3B4455;\n",
              "      --disabled-fill-color: #666;\n",
              "  }\n",
              "\n",
              "  .colab-df-quickchart {\n",
              "    background-color: var(--bg-color);\n",
              "    border: none;\n",
              "    border-radius: 50%;\n",
              "    cursor: pointer;\n",
              "    display: none;\n",
              "    fill: var(--fill-color);\n",
              "    height: 32px;\n",
              "    padding: 0;\n",
              "    width: 32px;\n",
              "  }\n",
              "\n",
              "  .colab-df-quickchart:hover {\n",
              "    background-color: var(--hover-bg-color);\n",
              "    box-shadow: 0 1px 2px rgba(60, 64, 67, 0.3), 0 1px 3px 1px rgba(60, 64, 67, 0.15);\n",
              "    fill: var(--button-hover-fill-color);\n",
              "  }\n",
              "\n",
              "  .colab-df-quickchart-complete:disabled,\n",
              "  .colab-df-quickchart-complete:disabled:hover {\n",
              "    background-color: var(--disabled-bg-color);\n",
              "    fill: var(--disabled-fill-color);\n",
              "    box-shadow: none;\n",
              "  }\n",
              "\n",
              "  .colab-df-spinner {\n",
              "    border: 2px solid var(--fill-color);\n",
              "    border-color: transparent;\n",
              "    border-bottom-color: var(--fill-color);\n",
              "    animation:\n",
              "      spin 1s steps(1) infinite;\n",
              "  }\n",
              "\n",
              "  @keyframes spin {\n",
              "    0% {\n",
              "      border-color: transparent;\n",
              "      border-bottom-color: var(--fill-color);\n",
              "      border-left-color: var(--fill-color);\n",
              "    }\n",
              "    20% {\n",
              "      border-color: transparent;\n",
              "      border-left-color: var(--fill-color);\n",
              "      border-top-color: var(--fill-color);\n",
              "    }\n",
              "    30% {\n",
              "      border-color: transparent;\n",
              "      border-left-color: var(--fill-color);\n",
              "      border-top-color: var(--fill-color);\n",
              "      border-right-color: var(--fill-color);\n",
              "    }\n",
              "    40% {\n",
              "      border-color: transparent;\n",
              "      border-right-color: var(--fill-color);\n",
              "      border-top-color: var(--fill-color);\n",
              "    }\n",
              "    60% {\n",
              "      border-color: transparent;\n",
              "      border-right-color: var(--fill-color);\n",
              "    }\n",
              "    80% {\n",
              "      border-color: transparent;\n",
              "      border-right-color: var(--fill-color);\n",
              "      border-bottom-color: var(--fill-color);\n",
              "    }\n",
              "    90% {\n",
              "      border-color: transparent;\n",
              "      border-bottom-color: var(--fill-color);\n",
              "    }\n",
              "  }\n",
              "</style>\n",
              "\n",
              "  <script>\n",
              "    async function quickchart(key) {\n",
              "      const quickchartButtonEl =\n",
              "        document.querySelector('#' + key + ' button');\n",
              "      quickchartButtonEl.disabled = true;  // To prevent multiple clicks.\n",
              "      quickchartButtonEl.classList.add('colab-df-spinner');\n",
              "      try {\n",
              "        const charts = await google.colab.kernel.invokeFunction(\n",
              "            'suggestCharts', [key], {});\n",
              "      } catch (error) {\n",
              "        console.error('Error during call to suggestCharts:', error);\n",
              "      }\n",
              "      quickchartButtonEl.classList.remove('colab-df-spinner');\n",
              "      quickchartButtonEl.classList.add('colab-df-quickchart-complete');\n",
              "    }\n",
              "    (() => {\n",
              "      let quickchartButtonEl =\n",
              "        document.querySelector('#df-25dbe360-0c41-4c1e-85a9-d2e1a07dcd3e button');\n",
              "      quickchartButtonEl.style.display =\n",
              "        google.colab.kernel.accessAllowed ? 'block' : 'none';\n",
              "    })();\n",
              "  </script>\n",
              "</div>\n",
              "    </div>\n",
              "  </div>\n"
            ]
          },
          "metadata": {},
          "execution_count": 5
        }
      ],
      "source": [
        "df.head()"
      ]
    },
    {
      "cell_type": "markdown",
      "id": "2825704b",
      "metadata": {
        "id": "2825704b"
      },
      "source": [
        "Целевая метрика - PV \\\n",
        "$H_0: p_1 = p_2.$ Конверсии в двух группах не имеют значимого различия \\\n",
        "$H_1: p_1 \\neq p_2.$ Есть значимое различие в конверсиях \\\n",
        "Сначало нужно посчитать минимальный размер выборки"
      ]
    },
    {
      "cell_type": "code",
      "execution_count": 6,
      "id": "346b4765",
      "metadata": {
        "colab": {
          "base_uri": "https://localhost:8080/"
        },
        "id": "346b4765",
        "outputId": "00ab59e7-91ad-46b6-d84e-0bb140deb180"
      },
      "outputs": [
        {
          "output_type": "stream",
          "name": "stdout",
          "text": [
            "Минимальный размер выборки 2232.0\n"
          ]
        }
      ],
      "source": [
        "pv_usl = df['PV услуги']\n",
        "z_a = scipy.stats.norm.ppf(1 - 0.05)\n",
        "z_b = scipy.stats.norm.ppf(1 - 0.9)\n",
        "min_sam = np.round(\n",
        "    pv_usl.var() * (z_a - z_b) ** 2/ (0.08*pv_usl.mean()) ** 2 / (1/2)\n",
        "    , 0)\n",
        "print(f'Минимальный размер выборки {min_sam}')"
      ]
    },
    {
      "cell_type": "markdown",
      "id": "a8135078",
      "metadata": {
        "id": "a8135078"
      },
      "source": [
        "Выборки нужно проверить на неоднородность, для этого можно использовать метрику вероятности банкротства"
      ]
    },
    {
      "cell_type": "code",
      "execution_count": 7,
      "id": "e314c556",
      "metadata": {
        "colab": {
          "base_uri": "https://localhost:8080/"
        },
        "id": "e314c556",
        "outputId": "2f3efeca-5d88-460a-b4c8-80dcf54d3088"
      },
      "outputs": [
        {
          "output_type": "execute_result",
          "data": {
            "text/plain": [
              "(0.1313060090669901, 0.12926447085414652)"
            ]
          },
          "metadata": {},
          "execution_count": 7
        }
      ],
      "source": [
        "# Проверка неоднородности\n",
        "cntr = pd.read_csv(task_2_files[1])['Вероятность банкротства']\n",
        "test = pd.read_csv(task_2_files[2])['Вероятность банкротства']\n",
        "cntr.mean(), test.mean()"
      ]
    },
    {
      "cell_type": "code",
      "execution_count": 8,
      "id": "85c8374b",
      "metadata": {
        "colab": {
          "base_uri": "https://localhost:8080/"
        },
        "id": "85c8374b",
        "outputId": "df233977-7391-46e3-8020-4d6bf14f9d2b"
      },
      "outputs": [
        {
          "output_type": "stream",
          "name": "stdout",
          "text": [
            "Тест Колмогорова-Смирнова на однородность выборок:  0.6805095164532771\n",
            "Тест Андерсона-Дарлинга на однородность выборок:  0.25\n",
            "Леман-Розенблатт на однородность выборок:  0.49435616760268764\n",
            "Выборки однородны\n"
          ]
        },
        {
          "output_type": "stream",
          "name": "stderr",
          "text": [
            "<ipython-input-8-1119d11af6bb>:2: UserWarning: p-value capped: true value larger than 0.25\n",
            "  print('Тест Андерсона-Дарлинга на однородность выборок: ', scipy.stats.anderson_ksamp([cntr, test]).pvalue)\n"
          ]
        }
      ],
      "source": [
        "print('Тест Колмогорова-Смирнова на однородность выборок: ', scipy.stats.ks_2samp(cntr, test).pvalue)\n",
        "print('Тест Андерсона-Дарлинга на однородность выборок: ', scipy.stats.anderson_ksamp([cntr, test]).pvalue)\n",
        "print('Леман-Розенблатт на однородность выборок: ', scipy.stats.cramervonmises_2samp(cntr, test).pvalue)\n",
        "print('Выборки однородны')"
      ]
    },
    {
      "cell_type": "markdown",
      "id": "191c6a54",
      "metadata": {
        "id": "191c6a54"
      },
      "source": [
        "Теперь нужно провести тест сопряженности"
      ]
    },
    {
      "cell_type": "code",
      "source": [
        "cntr = pd.read_csv(task_2_files[1])\n",
        "test = pd.read_csv(task_2_files[2])\n",
        "\n",
        "cntr['Группа'] = 'Контроль'\n",
        "test['Группа'] = 'Тест'\n",
        "df = pd.concat([cntr, test])"
      ],
      "metadata": {
        "id": "fZUGPUnRXFkA"
      },
      "id": "fZUGPUnRXFkA",
      "execution_count": 31,
      "outputs": []
    },
    {
      "cell_type": "code",
      "source": [
        "table = pd.crosstab(\n",
        "    df['Группа'],\n",
        "    df['Флаг утилизации счёта'],\n",
        "    margins = True\n",
        ")\n",
        "table"
      ],
      "metadata": {
        "colab": {
          "base_uri": "https://localhost:8080/",
          "height": 175
        },
        "id": "5GV8llEGXdVV",
        "outputId": "06892113-c20e-4547-c172-98ef33d10cf6"
      },
      "id": "5GV8llEGXdVV",
      "execution_count": 33,
      "outputs": [
        {
          "output_type": "execute_result",
          "data": {
            "text/plain": [
              "Флаг утилизации счёта     0     1   All\n",
              "Группа                                 \n",
              "Контроль                587  1645  2232\n",
              "Тест                    562  1670  2232\n",
              "All                    1149  3315  4464"
            ],
            "text/html": [
              "\n",
              "  <div id=\"df-51ff2429-cbc8-43f7-a927-1d56e3ed45fd\" class=\"colab-df-container\">\n",
              "    <div>\n",
              "<style scoped>\n",
              "    .dataframe tbody tr th:only-of-type {\n",
              "        vertical-align: middle;\n",
              "    }\n",
              "\n",
              "    .dataframe tbody tr th {\n",
              "        vertical-align: top;\n",
              "    }\n",
              "\n",
              "    .dataframe thead th {\n",
              "        text-align: right;\n",
              "    }\n",
              "</style>\n",
              "<table border=\"1\" class=\"dataframe\">\n",
              "  <thead>\n",
              "    <tr style=\"text-align: right;\">\n",
              "      <th>Флаг утилизации счёта</th>\n",
              "      <th>0</th>\n",
              "      <th>1</th>\n",
              "      <th>All</th>\n",
              "    </tr>\n",
              "    <tr>\n",
              "      <th>Группа</th>\n",
              "      <th></th>\n",
              "      <th></th>\n",
              "      <th></th>\n",
              "    </tr>\n",
              "  </thead>\n",
              "  <tbody>\n",
              "    <tr>\n",
              "      <th>Контроль</th>\n",
              "      <td>587</td>\n",
              "      <td>1645</td>\n",
              "      <td>2232</td>\n",
              "    </tr>\n",
              "    <tr>\n",
              "      <th>Тест</th>\n",
              "      <td>562</td>\n",
              "      <td>1670</td>\n",
              "      <td>2232</td>\n",
              "    </tr>\n",
              "    <tr>\n",
              "      <th>All</th>\n",
              "      <td>1149</td>\n",
              "      <td>3315</td>\n",
              "      <td>4464</td>\n",
              "    </tr>\n",
              "  </tbody>\n",
              "</table>\n",
              "</div>\n",
              "    <div class=\"colab-df-buttons\">\n",
              "\n",
              "  <div class=\"colab-df-container\">\n",
              "    <button class=\"colab-df-convert\" onclick=\"convertToInteractive('df-51ff2429-cbc8-43f7-a927-1d56e3ed45fd')\"\n",
              "            title=\"Convert this dataframe to an interactive table.\"\n",
              "            style=\"display:none;\">\n",
              "\n",
              "  <svg xmlns=\"http://www.w3.org/2000/svg\" height=\"24px\" viewBox=\"0 -960 960 960\">\n",
              "    <path d=\"M120-120v-720h720v720H120Zm60-500h600v-160H180v160Zm220 220h160v-160H400v160Zm0 220h160v-160H400v160ZM180-400h160v-160H180v160Zm440 0h160v-160H620v160ZM180-180h160v-160H180v160Zm440 0h160v-160H620v160Z\"/>\n",
              "  </svg>\n",
              "    </button>\n",
              "\n",
              "  <style>\n",
              "    .colab-df-container {\n",
              "      display:flex;\n",
              "      gap: 12px;\n",
              "    }\n",
              "\n",
              "    .colab-df-convert {\n",
              "      background-color: #E8F0FE;\n",
              "      border: none;\n",
              "      border-radius: 50%;\n",
              "      cursor: pointer;\n",
              "      display: none;\n",
              "      fill: #1967D2;\n",
              "      height: 32px;\n",
              "      padding: 0 0 0 0;\n",
              "      width: 32px;\n",
              "    }\n",
              "\n",
              "    .colab-df-convert:hover {\n",
              "      background-color: #E2EBFA;\n",
              "      box-shadow: 0px 1px 2px rgba(60, 64, 67, 0.3), 0px 1px 3px 1px rgba(60, 64, 67, 0.15);\n",
              "      fill: #174EA6;\n",
              "    }\n",
              "\n",
              "    .colab-df-buttons div {\n",
              "      margin-bottom: 4px;\n",
              "    }\n",
              "\n",
              "    [theme=dark] .colab-df-convert {\n",
              "      background-color: #3B4455;\n",
              "      fill: #D2E3FC;\n",
              "    }\n",
              "\n",
              "    [theme=dark] .colab-df-convert:hover {\n",
              "      background-color: #434B5C;\n",
              "      box-shadow: 0px 1px 3px 1px rgba(0, 0, 0, 0.15);\n",
              "      filter: drop-shadow(0px 1px 2px rgba(0, 0, 0, 0.3));\n",
              "      fill: #FFFFFF;\n",
              "    }\n",
              "  </style>\n",
              "\n",
              "    <script>\n",
              "      const buttonEl =\n",
              "        document.querySelector('#df-51ff2429-cbc8-43f7-a927-1d56e3ed45fd button.colab-df-convert');\n",
              "      buttonEl.style.display =\n",
              "        google.colab.kernel.accessAllowed ? 'block' : 'none';\n",
              "\n",
              "      async function convertToInteractive(key) {\n",
              "        const element = document.querySelector('#df-51ff2429-cbc8-43f7-a927-1d56e3ed45fd');\n",
              "        const dataTable =\n",
              "          await google.colab.kernel.invokeFunction('convertToInteractive',\n",
              "                                                    [key], {});\n",
              "        if (!dataTable) return;\n",
              "\n",
              "        const docLinkHtml = 'Like what you see? Visit the ' +\n",
              "          '<a target=\"_blank\" href=https://colab.research.google.com/notebooks/data_table.ipynb>data table notebook</a>'\n",
              "          + ' to learn more about interactive tables.';\n",
              "        element.innerHTML = '';\n",
              "        dataTable['output_type'] = 'display_data';\n",
              "        await google.colab.output.renderOutput(dataTable, element);\n",
              "        const docLink = document.createElement('div');\n",
              "        docLink.innerHTML = docLinkHtml;\n",
              "        element.appendChild(docLink);\n",
              "      }\n",
              "    </script>\n",
              "  </div>\n",
              "\n",
              "\n",
              "<div id=\"df-4022ad49-12c1-45a7-977d-210784216f72\">\n",
              "  <button class=\"colab-df-quickchart\" onclick=\"quickchart('df-4022ad49-12c1-45a7-977d-210784216f72')\"\n",
              "            title=\"Suggest charts\"\n",
              "            style=\"display:none;\">\n",
              "\n",
              "<svg xmlns=\"http://www.w3.org/2000/svg\" height=\"24px\"viewBox=\"0 0 24 24\"\n",
              "     width=\"24px\">\n",
              "    <g>\n",
              "        <path d=\"M19 3H5c-1.1 0-2 .9-2 2v14c0 1.1.9 2 2 2h14c1.1 0 2-.9 2-2V5c0-1.1-.9-2-2-2zM9 17H7v-7h2v7zm4 0h-2V7h2v10zm4 0h-2v-4h2v4z\"/>\n",
              "    </g>\n",
              "</svg>\n",
              "  </button>\n",
              "\n",
              "<style>\n",
              "  .colab-df-quickchart {\n",
              "      --bg-color: #E8F0FE;\n",
              "      --fill-color: #1967D2;\n",
              "      --hover-bg-color: #E2EBFA;\n",
              "      --hover-fill-color: #174EA6;\n",
              "      --disabled-fill-color: #AAA;\n",
              "      --disabled-bg-color: #DDD;\n",
              "  }\n",
              "\n",
              "  [theme=dark] .colab-df-quickchart {\n",
              "      --bg-color: #3B4455;\n",
              "      --fill-color: #D2E3FC;\n",
              "      --hover-bg-color: #434B5C;\n",
              "      --hover-fill-color: #FFFFFF;\n",
              "      --disabled-bg-color: #3B4455;\n",
              "      --disabled-fill-color: #666;\n",
              "  }\n",
              "\n",
              "  .colab-df-quickchart {\n",
              "    background-color: var(--bg-color);\n",
              "    border: none;\n",
              "    border-radius: 50%;\n",
              "    cursor: pointer;\n",
              "    display: none;\n",
              "    fill: var(--fill-color);\n",
              "    height: 32px;\n",
              "    padding: 0;\n",
              "    width: 32px;\n",
              "  }\n",
              "\n",
              "  .colab-df-quickchart:hover {\n",
              "    background-color: var(--hover-bg-color);\n",
              "    box-shadow: 0 1px 2px rgba(60, 64, 67, 0.3), 0 1px 3px 1px rgba(60, 64, 67, 0.15);\n",
              "    fill: var(--button-hover-fill-color);\n",
              "  }\n",
              "\n",
              "  .colab-df-quickchart-complete:disabled,\n",
              "  .colab-df-quickchart-complete:disabled:hover {\n",
              "    background-color: var(--disabled-bg-color);\n",
              "    fill: var(--disabled-fill-color);\n",
              "    box-shadow: none;\n",
              "  }\n",
              "\n",
              "  .colab-df-spinner {\n",
              "    border: 2px solid var(--fill-color);\n",
              "    border-color: transparent;\n",
              "    border-bottom-color: var(--fill-color);\n",
              "    animation:\n",
              "      spin 1s steps(1) infinite;\n",
              "  }\n",
              "\n",
              "  @keyframes spin {\n",
              "    0% {\n",
              "      border-color: transparent;\n",
              "      border-bottom-color: var(--fill-color);\n",
              "      border-left-color: var(--fill-color);\n",
              "    }\n",
              "    20% {\n",
              "      border-color: transparent;\n",
              "      border-left-color: var(--fill-color);\n",
              "      border-top-color: var(--fill-color);\n",
              "    }\n",
              "    30% {\n",
              "      border-color: transparent;\n",
              "      border-left-color: var(--fill-color);\n",
              "      border-top-color: var(--fill-color);\n",
              "      border-right-color: var(--fill-color);\n",
              "    }\n",
              "    40% {\n",
              "      border-color: transparent;\n",
              "      border-right-color: var(--fill-color);\n",
              "      border-top-color: var(--fill-color);\n",
              "    }\n",
              "    60% {\n",
              "      border-color: transparent;\n",
              "      border-right-color: var(--fill-color);\n",
              "    }\n",
              "    80% {\n",
              "      border-color: transparent;\n",
              "      border-right-color: var(--fill-color);\n",
              "      border-bottom-color: var(--fill-color);\n",
              "    }\n",
              "    90% {\n",
              "      border-color: transparent;\n",
              "      border-bottom-color: var(--fill-color);\n",
              "    }\n",
              "  }\n",
              "</style>\n",
              "\n",
              "  <script>\n",
              "    async function quickchart(key) {\n",
              "      const quickchartButtonEl =\n",
              "        document.querySelector('#' + key + ' button');\n",
              "      quickchartButtonEl.disabled = true;  // To prevent multiple clicks.\n",
              "      quickchartButtonEl.classList.add('colab-df-spinner');\n",
              "      try {\n",
              "        const charts = await google.colab.kernel.invokeFunction(\n",
              "            'suggestCharts', [key], {});\n",
              "      } catch (error) {\n",
              "        console.error('Error during call to suggestCharts:', error);\n",
              "      }\n",
              "      quickchartButtonEl.classList.remove('colab-df-spinner');\n",
              "      quickchartButtonEl.classList.add('colab-df-quickchart-complete');\n",
              "    }\n",
              "    (() => {\n",
              "      let quickchartButtonEl =\n",
              "        document.querySelector('#df-4022ad49-12c1-45a7-977d-210784216f72 button');\n",
              "      quickchartButtonEl.style.display =\n",
              "        google.colab.kernel.accessAllowed ? 'block' : 'none';\n",
              "    })();\n",
              "  </script>\n",
              "</div>\n",
              "    </div>\n",
              "  </div>\n"
            ]
          },
          "metadata": {},
          "execution_count": 33
        }
      ]
    },
    {
      "cell_type": "code",
      "execution_count": 35,
      "id": "b54db761",
      "metadata": {
        "colab": {
          "base_uri": "https://localhost:8080/"
        },
        "id": "b54db761",
        "outputId": "c4eff99b-03e6-42f3-d0f1-f142a3f27d27"
      },
      "outputs": [
        {
          "output_type": "stream",
          "name": "stdout",
          "text": [
            "Не можем отклонить нулевую гипотезу \n",
            "Хи-квадрат критерий = 0.7324882152097634 \n",
            "p-value =  0.9472628534686611\n"
          ]
        }
      ],
      "source": [
        "res = scipy.stats.chi2_contingency(table, correction=False)\n",
        "stat = res.statistic\n",
        "p_value = res.pvalue\n",
        "\n",
        "print('Не можем отклонить нулевую гипотезу', '\\nХи-квадрат критерий =',stat,'\\np-value = ',p_value)"
      ]
    }
  ],
  "metadata": {
    "kernelspec": {
      "display_name": "Python 3 (ipykernel)",
      "language": "python",
      "name": "python3"
    },
    "language_info": {
      "codemirror_mode": {
        "name": "ipython",
        "version": 3
      },
      "file_extension": ".py",
      "mimetype": "text/x-python",
      "name": "python",
      "nbconvert_exporter": "python",
      "pygments_lexer": "ipython3",
      "version": "3.11.5"
    },
    "colab": {
      "provenance": []
    }
  },
  "nbformat": 4,
  "nbformat_minor": 5
}